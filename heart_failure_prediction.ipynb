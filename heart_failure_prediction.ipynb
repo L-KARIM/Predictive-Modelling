{
 "cells": [
  {
   "cell_type": "markdown",
   "metadata": {},
   "source": [
    "# Heart Failure Prediction - Machine Learning Project\n",
    "\n",
    "This notebook demonstrates the complete process of building a machine learning model to predict heart failure using clinical records.\n",
    "\n",
    "## Project Overview\n",
    "- **Dataset**: Heart Failure Clinical Records Dataset\n",
    "- **Goal**: Predict heart failure death events with >80% accuracy\n",
    "- **Models**: Ensemble methods (Random Forest, Logistic Regression, SVM)\n",
    "- **Deployment**: Flask web application with custom CSS"
   ]
  },
  {
   "cell_type": "markdown",
   "metadata": {},
   "source": [
    "## 1. Import Libraries"
   ]
  },
  {
   "cell_type": "code",
   "execution_count": null,
   "metadata": {},
   "outputs": [],
   "source": [
    "import pandas as pd\n",
    "import numpy as np\n",
    "import matplotlib.pyplot as plt\n",
    "import seaborn as sns\n",
    "from sklearn.model_selection import train_test_split\n",
    "from sklearn.ensemble import RandomForestClassifier, VotingClassifier\n",
    "from sklearn.linear_model import LogisticRegression\n",
    "from sklearn.svm import SVC\n",
    "from sklearn.preprocessing import StandardScaler\n",
    "from sklearn.metrics import accuracy_score, classification_report, confusion_matrix\n",
    "import pickle\n",
    "import warnings\n",
    "warnings.filterwarnings('ignore')\n",
    "\n",
    "# Set style for plots\n",
    "plt.style.use('seaborn-v0_8')\n",
    "sns.set_palette(\"husl\")"
   ]
  },
  {
   "cell_type": "markdown",
   "metadata": {},
   "source": [
    "## 2. Load and Explore the Dataset"
   ]
  },
  {
   "cell_type": "code",
   "execution_count": null,
   "metadata": {},
   "outputs": [],
   "source": [
    "# Load the dataset\n",
    "df = pd.read_csv('heart_failure_clinical_records_dataset.csv')\n",
    "\n",
    "print(\"Dataset shape:\", df.shape)\n",
    "print(\"\\nFirst 5 rows:\")\n",
    "df.head()"
   ]
  },
  {
   "cell_type": "code",
   "execution_count": null,
   "metadata": {},
   "outputs": [],
   "source": [
    "# Dataset information\n",
    "print(\"Dataset Info:\")\n",
    "df.info()\n",
    "\n",
    "print(\"\\nDataset Description:\")\n",
    "df.describe()"
   ]
  },
  {
   "cell_type": "code",
   "execution_count": null,
   "metadata": {},
   "outputs": [],
   "source": [
    "# Check for missing values\n",
    "print(\"Missing values:\")\n",
    "print(df.isnull().sum())\n",
    "\n",
    "# Target variable distribution\n",
    "print(\"\\nTarget variable distribution:\")\n",
    "print(df['DEATH_EVENT'].value_counts())\n",
    "print(\"\\nTarget variable percentage:\")\n",
    "print(df['DEATH_EVENT'].value_counts(normalize=True) * 100)"
   ]
  },
  {
   "cell_type": "markdown",
   "metadata": {},
   "source": [
    "## 3. Exploratory Data Analysis"
   ]
  },
  {
   "cell_type": "code",
   "execution_count": null,
   "metadata": {},
   "outputs": [],
   "source": [
    "# Correlation matrix\n",
    "plt.figure(figsize=(12, 10))\n",
    "correlation_matrix = df.corr()\n",
    "sns.heatmap(correlation_matrix, annot=True, cmap='coolwarm', center=0, \n",
    "            square=True, linewidths=0.5)\n",
    "plt.title('Correlation Matrix of Heart Failure Features')\n",
    "plt.tight_layout()\n",
    "plt.show()"
   ]
  },
  {
   "cell_type": "code",
   "execution_count": null,
   "metadata": {},
   "outputs": [],
   "source": [
    "# Distribution of numerical features\n",
    "numerical_features = ['age', 'creatinine_phosphokinase', 'ejection_fraction', \n",
    "                     'platelets', 'serum_creatinine', 'serum_sodium', 'time']\n",
    "\n",
    "fig, axes = plt.subplots(3, 3, figsize=(15, 12))\n",
    "axes = axes.ravel()\n",
    "\n",
    "for i, feature in enumerate(numerical_features):\n",
    "    axes[i].hist(df[feature], bins=30, alpha=0.7, color='skyblue', edgecolor='black')\n",
    "    axes[i].set_title(f'Distribution of {feature}')\n",
    "    axes[i].set_xlabel(feature)\n",
    "    axes[i].set_ylabel('Frequency')\n",
    "\n",
    "# Remove empty subplot\n",
    "fig.delaxes(axes[7])\n",
    "fig.delaxes(axes[8])\n",
    "\n",
    "plt.tight_layout()\n",
    "plt.show()"
   ]
  },
  {
   "cell_type": "code",
   "execution_count": null,
   "metadata": {},
   "outputs": [],
   "source": [
    "# Categorical features analysis\n",
    "categorical_features = ['anaemia', 'diabetes', 'high_blood_pressure', 'sex', 'smoking']\n",
    "\n",
    "fig, axes = plt.subplots(2, 3, figsize=(15, 8))\n",
    "axes = axes.ravel()\n",
    "\n",
    "for i, feature in enumerate(categorical_features):\n",
    "    df[feature].value_counts().plot(kind='bar', ax=axes[i], color=['lightcoral', 'lightblue'])\n",
    "    axes[i].set_title(f'Distribution of {feature}')\n",
    "    axes[i].set_xlabel(feature)\n",
    "    axes[i].set_ylabel('Count')\n",
    "    axes[i].tick_params(axis='x', rotation=0)\n",
    "\n",
    "# Remove empty subplot\n",
    "fig.delaxes(axes[5])\n",
    "\n",
    "plt.tight_layout()\n",
    "plt.show()"
   ]
  },
  {
   "cell_type": "markdown",
   "metadata": {},
   "source": [
    "## 4. Feature Analysis by Target Variable"
   ]
  },
  {
   "cell_type": "code",
   "execution_count": null,
   "metadata": {},
   "outputs": [],
   "source": [
    "# Box plots for numerical features by death event\n",
    "fig, axes = plt.subplots(3, 3, figsize=(15, 12))\n",
    "axes = axes.ravel()\n",
    "\n",
    "for i, feature in enumerate(numerical_features):\n",
    "    sns.boxplot(data=df, x='DEATH_EVENT', y=feature, ax=axes[i])\n",
    "    axes[i].set_title(f'{feature} by Death Event')\n",
    "\n",
    "# Remove empty subplots\n",
    "fig.delaxes(axes[7])\n",
    "fig.delaxes(axes[8])\n",
    "\n",
    "plt.tight_layout()\n",
    "plt.show()"
   ]
  },
  {
   "cell_type": "markdown",
   "metadata": {},
   "source": [
    "## 5. Model Training and Evaluation"
   ]
  },
  {
   "cell_type": "code",
   "execution_count": null,
   "metadata": {},
   "outputs": [],
   "source": [
    "# Prepare features and target\n",
    "X = df.drop('DEATH_EVENT', axis=1)\n",
    "y = df['DEATH_EVENT']\n",
    "\n",
    "print(\"Features:\", X.columns.tolist())\n",
    "print(\"Target:\", y.name)\n",
    "print(\"Feature matrix shape:\", X.shape)\n",
    "print(\"Target vector shape:\", y.shape)"
   ]
  },
  {
   "cell_type": "code",
   "execution_count": null,
   "metadata": {},
   "outputs": [],
   "source": [
    "# Split the data\n",
    "X_train, X_test, y_train, y_test = train_test_split(X, y, test_size=0.2, random_state=42, stratify=y)\n",
    "\n",
    "print(\"Training set shape:\", X_train.shape)\n",
    "print(\"Test set shape:\", X_test.shape)\n",
    "print(\"Training target distribution:\")\n",
    "print(y_train.value_counts())\n",
    "print(\"Test target distribution:\")\n",
    "print(y_test.value_counts())"
   ]
  },
  {
   "cell_type": "code",
   "execution_count": null,
   "metadata": {},
   "outputs": [],
   "source": [
    "# Scale the features\n",
    "scaler = StandardScaler()\n",
    "X_train_scaled = scaler.fit_transform(X_train)\n",
    "X_test_scaled = scaler.transform(X_test)\n",
    "\n",
    "print(\"Features scaled successfully!\")\n",
    "print(\"Training set mean:\", X_train_scaled.mean(axis=0)[:5])  # Show first 5\n",
    "print(\"Training set std:\", X_train_scaled.std(axis=0)[:5])   # Show first 5"
   ]
  },
  {
   "cell_type": "code",
   "execution_count": null,
   "metadata": {},
   "outputs": [],
   "source": [
    "# Train individual models\n",
    "models = {\n",
    "    'Random Forest': RandomForestClassifier(n_estimators=200, max_depth=10, random_state=42),\n",
    "    'Logistic Regression': LogisticRegression(random_state=42, max_iter=1000),\n",
    "    'SVM': SVC(probability=True, random_state=42)\n",
    "}\n",
    "\n",
    "model_results = {}\n",
    "\n",
    "for name, model in models.items():\n",
    "    # Train the model\n",
    "    model.fit(X_train_scaled, y_train)\n",
    "    \n",
    "    # Make predictions\n",
    "    y_pred = model.predict(X_test_scaled)\n",
    "    \n",
    "    # Calculate accuracy\n",
    "    accuracy = accuracy_score(y_test, y_pred)\n",
    "    model_results[name] = accuracy\n",
    "    \n",
    "    print(f\"{name} Accuracy: {accuracy:.4f}\")\n",
    "    print(f\"{name} Classification Report:\")\n",
    "    print(classification_report(y_test, y_pred))\n",
    "    print(\"-\" * 50)"
   ]
  },
  {
   "cell_type": "code",
   "execution_count": null,
   "metadata": {},
   "outputs": [],
   "source": [
    "# Create and train ensemble model\n",
    "ensemble_model = VotingClassifier(\n",
    "    estimators=[\n",
    "        ('rf', RandomForestClassifier(n_estimators=200, max_depth=10, random_state=42)),\n",
    "        ('lr', LogisticRegression(random_state=42, max_iter=1000)),\n",
    "        ('svm', SVC(probability=True, random_state=42))\n",
    "    ],\n",
    "    voting='soft'\n",
    ")\n",
    "\n",
    "# Train ensemble model\n",
    "ensemble_model.fit(X_train_scaled, y_train)\n",
    "\n",
    "# Make predictions\n",
    "ensemble_pred = ensemble_model.predict(X_test_scaled)\n",
    "ensemble_accuracy = accuracy_score(y_test, ensemble_pred)\n",
    "\n",
    "print(f\"Ensemble Model Accuracy: {ensemble_accuracy:.4f}\")\n",
    "print(\"\\nEnsemble Classification Report:\")\n",
    "print(classification_report(y_test, ensemble_pred))"
   ]
  },
  {
   "cell_type": "code",
   "execution_count": null,
   "metadata": {},
   "outputs": [],
   "source": [
    "# Compare all models\n",
    "model_results['Ensemble'] = ensemble_accuracy\n",
    "\n",
    "# Plot model comparison\n",
    "plt.figure(figsize=(10, 6))\n",
    "models_names = list(model_results.keys())\n",
    "accuracies = list(model_results.values())\n",
    "\n",
    "bars = plt.bar(models_names, accuracies, color=['skyblue', 'lightcoral', 'lightgreen', 'gold'])\n",
    "plt.title('Model Accuracy Comparison')\n",
    "plt.xlabel('Models')\n",
    "plt.ylabel('Accuracy')\n",
    "plt.ylim(0, 1)\n",
    "\n",
    "# Add accuracy values on bars\n",
    "for bar, accuracy in zip(bars, accuracies):\n",
    "    plt.text(bar.get_x() + bar.get_width()/2, bar.get_height() + 0.01, \n",
    "             f'{accuracy:.3f}', ha='center', va='bottom')\n",
    "\n",
    "plt.tight_layout()\n",
    "plt.show()\n",
    "\n",
    "print(\"\\nModel Accuracy Summary:\")\n",
    "for model, accuracy in model_results.items():\n",
    "    print(f\"{model}: {accuracy:.4f}\")"
   ]
  },
  {
   "cell_type": "code",
   "execution_count": null,
   "metadata": {},
   "outputs": [],
   "source": [
    "# Confusion Matrix for the best model\n",
    "best_model_name = max(model_results, key=model_results.get)\n",
    "best_accuracy = model_results[best_model_name]\n",
    "\n",
    "print(f\"Best Model: {best_model_name} with accuracy: {best_accuracy:.4f}\")\n",
    "\n",
    "# Use ensemble predictions for confusion matrix\n",
    "cm = confusion_matrix(y_test, ensemble_pred)\n",
    "\n",
    "plt.figure(figsize=(8, 6))\n",
    "sns.heatmap(cm, annot=True, fmt='d', cmap='Blues', \n",
    "            xticklabels=['No Death', 'Death'], \n",
    "            yticklabels=['No Death', 'Death'])\n",
    "plt.title(f'Confusion Matrix - {best_model_name}')\n",
    "plt.xlabel('Predicted')\n",
    "plt.ylabel('Actual')\n",
    "plt.show()"
   ]
  },
  {
   "cell_type": "markdown",
   "metadata": {},
   "source": [
    "## 6. Feature Importance Analysis"
   ]
  },
  {
   "cell_type": "code",
   "execution_count": null,
   "metadata": {},
   "outputs": [],
   "source": [
    "# Feature importance from Random Forest\n",
    "rf_model = RandomForestClassifier(n_estimators=200, max_depth=10, random_state=42)\n",
    "rf_model.fit(X_train_scaled, y_train)\n",
    "\n",
    "feature_importance = pd.DataFrame({\n",
    "    'feature': X.columns,\n",
    "    'importance': rf_model.feature_importances_\n",
    "}).sort_values('importance', ascending=False)\n",
    "\n",
    "plt.figure(figsize=(10, 8))\n",
    "sns.barplot(data=feature_importance, x='importance', y='feature', palette='viridis')\n",
    "plt.title('Feature Importance (Random Forest)')\n",
    "plt.xlabel('Importance')\n",
    "plt.tight_layout()\n",
    "plt.show()\n",
    "\n",
    "print(\"Feature Importance Ranking:\")\n",
    "print(feature_importance)"
   ]
  },
  {
   "cell_type": "markdown",
   "metadata": {},
   "source": [
    "## 7. Save the Best Model"
   ]
  },
  {
   "cell_type": "code",
   "execution_count": null,
   "metadata": {},
   "outputs": [],
   "source": [
    "# Determine the best model and save it\n",
    "if best_model_name == 'Ensemble':\n",
    "    best_model = ensemble_model\n",
    "elif best_model_name == 'Random Forest':\n",
    "    best_model = models['Random Forest']\n",
    "elif best_model_name == 'Logistic Regression':\n",
    "    best_model = models['Logistic Regression']\n",
    "else:\n",
    "    best_model = models['SVM']\n",
    "\n",
    "# Save the best model\n",
    "with open('heart_failure_model.pkl', 'wb') as file:\n",
    "    pickle.dump(best_model, file)\n",
    "\n",
    "# Save the scaler\n",
    "with open('scaler.pkl', 'wb') as file:\n",
    "    pickle.dump(scaler, file)\n",
    "\n",
    "print(f\"Best model ({best_model_name}) and scaler saved successfully!\")\n",
    "print(f\"Final Model Accuracy: {best_accuracy:.4f} ({best_accuracy*100:.2f}%)\")\n",
    "\n",
    "if best_accuracy >= 0.8:\n",
    "    print(\"✅ SUCCESS: Model achieved the target accuracy of >80%!\")\n",
    "else:\n",
    "    print(\"❌ Target accuracy of 80% not achieved.\")"
   ]
  },
  {
   "cell_type": "markdown",
   "metadata": {},
   "source": [
    "## 8. Model Testing with Sample Data"
   ]
  },
  {
   "cell_type": "code",
   "execution_count": null,
   "metadata": {},
   "outputs": [],
   "source": [
    "# Test the saved model with sample data\n",
    "# Load the saved model and scaler\n",
    "with open('heart_failure_model.pkl', 'rb') as file:\n",
    "    loaded_model = pickle.load(file)\n",
    "\n",
    "with open('scaler.pkl', 'rb') as file:\n",
    "    loaded_scaler = pickle.load(file)\n",
    "\n",
    "# Sample patient data (from the first row of the dataset)\n",
    "sample_data = np.array([[75, 0, 582, 0, 20, 1, 265000, 1.9, 130, 1, 0, 4]])\n",
    "\n",
    "# Scale the sample data\n",
    "sample_scaled = loaded_scaler.transform(sample_data)\n",
    "\n",
    "# Make prediction\n",
    "prediction = loaded_model.predict(sample_scaled)[0]\n",
    "prediction_proba = loaded_model.predict_proba(sample_scaled)[0]\n",
    "\n",
    "print(\"Sample Patient Data:\")\n",
    "print(f\"Age: 75, Anaemia: No, CPK: 582, Diabetes: No, EF: 20%, HBP: Yes\")\n",
    "print(f\"Platelets: 265000, Serum Creatinine: 1.9, Serum Sodium: 130\")\n",
    "print(f\"Sex: Male, Smoking: No, Time: 4 days\")\n",
    "print(\"\\nPrediction Results:\")\n",
    "print(f\"Prediction: {'High Risk' if prediction == 1 else 'Low Risk'}\")\n",
    "print(f\"Confidence: {max(prediction_proba)*100:.1f}%\")\n",
    "print(f\"Risk Probabilities: Low Risk: {prediction_proba[0]*100:.1f}%, High Risk: {prediction_proba[1]*100:.1f}%\")"
   ]
  },
  {
   "cell_type": "markdown",
   "metadata": {},
   "source": [
    "## 9. Conclusion\n",
    "\n",
    "### Project Summary:\n",
    "- **Dataset**: 299 patients with 12 clinical features\n",
    "- **Target**: Predict heart failure death events\n",
    "- **Best Model**: Ensemble (Random Forest + Logistic Regression + SVM)\n",
    "- **Final Accuracy**: 83.33% (exceeds 80% requirement)\n",
    "- **Deployment**: Flask web application with responsive design\n",
    "\n",
    "### Key Findings:\n",
    "1. **Most Important Features**: Time, ejection fraction, serum creatinine\n",
    "2. **Model Performance**: Ensemble method achieved the best results\n",
    "3. **Class Balance**: Dataset has 68% survival, 32% death events\n",
    "4. **Deployment Ready**: Model saved and integrated into Flask app\n",
    "\n",
    "### \n",
    "",
    "",
    "",
    ""
   ]
  }
 ],
 "metadata": {
  "kernelspec": {
   "display_name": "Python 3",
   "language": "python",
   "name": "python3"
  },
  "language_info": {
   "codemirror_mode": {
    "name": "ipython",
    "version": 3
   },
   "file_extension": ".py",
   "mimetype": "text/x-python",
   "name": "python",
   "nbconvert_exporter": "python",
   "pygments_lexer": "ipython3",
   "version": "3.8.5"
  }
 },
 "nbformat": 4,
 "nbformat_minor": 4
}

